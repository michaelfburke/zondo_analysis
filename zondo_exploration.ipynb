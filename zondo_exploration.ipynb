{
 "cells": [
  {
   "cell_type": "code",
   "execution_count": 1,
   "metadata": {},
   "outputs": [
    {
     "name": "stderr",
     "output_type": "stream",
     "text": [
      "[nltk_data] Downloading package punkt to /Users/20790627/nltk_data...\n",
      "[nltk_data]   Package punkt is already up-to-date!\n"
     ]
    }
   ],
   "source": [
    "import nltk\n",
    "import numpy\n",
    "import string\n",
    "import matplotlib.pyplot as plt\n",
    "from nltk.tokenize import word_tokenize\n",
    "nltk.download('punkt')\n",
    "import pandas as pd"
   ]
  },
  {
   "cell_type": "code",
   "execution_count": 2,
   "metadata": {},
   "outputs": [
    {
     "data": {
      "text/html": [
       "<div>\n",
       "<style scoped>\n",
       "    .dataframe tbody tr th:only-of-type {\n",
       "        vertical-align: middle;\n",
       "    }\n",
       "\n",
       "    .dataframe tbody tr th {\n",
       "        vertical-align: top;\n",
       "    }\n",
       "\n",
       "    .dataframe thead th {\n",
       "        text-align: right;\n",
       "    }\n",
       "</style>\n",
       "<table border=\"1\" class=\"dataframe\">\n",
       "  <thead>\n",
       "    <tr style=\"text-align: right;\">\n",
       "      <th></th>\n",
       "      <th>S.No.</th>\n",
       "      <th>Company Name</th>\n",
       "      <th>Ticker</th>\n",
       "      <th>Sector</th>\n",
       "    </tr>\n",
       "  </thead>\n",
       "  <tbody>\n",
       "    <tr>\n",
       "      <th>0</th>\n",
       "      <td>1</td>\n",
       "      <td>4Sight Holdings Limited</td>\n",
       "      <td>4SI</td>\n",
       "      <td>Financial Services</td>\n",
       "    </tr>\n",
       "    <tr>\n",
       "      <th>1</th>\n",
       "      <td>2</td>\n",
       "      <td>ABSA Bank Limited</td>\n",
       "      <td>ABSP</td>\n",
       "      <td>Banks</td>\n",
       "    </tr>\n",
       "    <tr>\n",
       "      <th>2</th>\n",
       "      <td>3</td>\n",
       "      <td>Barclays Africa Group Limited</td>\n",
       "      <td>ABG.ZA</td>\n",
       "      <td>Banks</td>\n",
       "    </tr>\n",
       "    <tr>\n",
       "      <th>3</th>\n",
       "      <td>4</td>\n",
       "      <td>Accelerate Property Fund Limited</td>\n",
       "      <td>APF</td>\n",
       "      <td>Real Estate Investment Trusts</td>\n",
       "    </tr>\n",
       "    <tr>\n",
       "      <th>4</th>\n",
       "      <td>5</td>\n",
       "      <td>Accentuate Limited</td>\n",
       "      <td>ACE</td>\n",
       "      <td>Chemicals</td>\n",
       "    </tr>\n",
       "  </tbody>\n",
       "</table>\n",
       "</div>"
      ],
      "text/plain": [
       "   S.No.                      Company Name  Ticker  \\\n",
       "0      1           4Sight Holdings Limited     4SI   \n",
       "1      2                 ABSA Bank Limited    ABSP   \n",
       "2      3     Barclays Africa Group Limited  ABG.ZA   \n",
       "3      4  Accelerate Property Fund Limited     APF   \n",
       "4      5                Accentuate Limited     ACE   \n",
       "\n",
       "                          Sector  \n",
       "0             Financial Services  \n",
       "1                          Banks  \n",
       "2                          Banks  \n",
       "3  Real Estate Investment Trusts  \n",
       "4                      Chemicals  "
      ]
     },
     "execution_count": 2,
     "metadata": {},
     "output_type": "execute_result"
    }
   ],
   "source": [
    "# these are the companies listed on the Johannesburg Stock Exchange\n",
    "listed_companies = pd.read_excel('Complete-List-of-Listed-Companies-on-South-Africa-Johannesburg-Stock-Exchange-Jan-2021.xlsx')\n",
    "listed_companies.head()"
   ]
  },
  {
   "cell_type": "code",
   "execution_count": 6,
   "metadata": {},
   "outputs": [
    {
     "data": {
      "text/html": [
       "<div>\n",
       "<style scoped>\n",
       "    .dataframe tbody tr th:only-of-type {\n",
       "        vertical-align: middle;\n",
       "    }\n",
       "\n",
       "    .dataframe tbody tr th {\n",
       "        vertical-align: top;\n",
       "    }\n",
       "\n",
       "    .dataframe thead th {\n",
       "        text-align: right;\n",
       "    }\n",
       "</style>\n",
       "<table border=\"1\" class=\"dataframe\">\n",
       "  <thead>\n",
       "    <tr style=\"text-align: right;\">\n",
       "      <th></th>\n",
       "      <th>report</th>\n",
       "      <th>text</th>\n",
       "    </tr>\n",
       "  </thead>\n",
       "  <tbody>\n",
       "    <tr>\n",
       "      <th>0</th>\n",
       "      <td>OCR version - State Capture Commission Report ...</td>\n",
       "      <td>dicial \\nn of Ir• \\nS a \\nI I eport: Part 1 \\n...</td>\n",
       "    </tr>\n",
       "    <tr>\n",
       "      <th>1</th>\n",
       "      <td>OCR version - State Capture Commission Report ...</td>\n",
       "      <td>Judicial Commission  \\nOf  \\n     Inquiry into...</td>\n",
       "    </tr>\n",
       "    <tr>\n",
       "      <th>2</th>\n",
       "      <td>OCR version - State Capture Commission Report ...</td>\n",
       "      <td>\\n \\nJudicial Commission  \\nof \\nInquiry into...</td>\n",
       "    </tr>\n",
       "    <tr>\n",
       "      <th>3</th>\n",
       "      <td>OCR version - State Capture Commission Report ...</td>\n",
       "      <td>Chairperson: Justice RtM Zondo \\nActing Chief ...</td>\n",
       "    </tr>\n",
       "    <tr>\n",
       "      <th>4</th>\n",
       "      <td>OCR version - State Capture Commission Report ...</td>\n",
       "      <td>\\n \\nJudicial Commission  \\nof \\nInquiry into...</td>\n",
       "    </tr>\n",
       "  </tbody>\n",
       "</table>\n",
       "</div>"
      ],
      "text/plain": [
       "                                              report  \\\n",
       "0  OCR version - State Capture Commission Report ...   \n",
       "1  OCR version - State Capture Commission Report ...   \n",
       "2  OCR version - State Capture Commission Report ...   \n",
       "3  OCR version - State Capture Commission Report ...   \n",
       "4  OCR version - State Capture Commission Report ...   \n",
       "\n",
       "                                                text  \n",
       "0  dicial \\nn of Ir• \\nS a \\nI I eport: Part 1 \\n...  \n",
       "1  Judicial Commission  \\nOf  \\n     Inquiry into...  \n",
       "2   \\n \\nJudicial Commission  \\nof \\nInquiry into...  \n",
       "3  Chairperson: Justice RtM Zondo \\nActing Chief ...  \n",
       "4   \\n \\nJudicial Commission  \\nof \\nInquiry into...  "
      ]
     },
     "execution_count": 6,
     "metadata": {},
     "output_type": "execute_result"
    }
   ],
   "source": [
    "# load the Zondo Comission Into State Capture reports\n",
    "zondo_reports = pd.read_csv('zondo_reports.csv')\n",
    "zondo_reports = zondo_reports.drop(columns=['Unnamed: 0'])\n",
    "zondo_reports.head()"
   ]
  }
 ],
 "metadata": {
  "kernelspec": {
   "display_name": "Python 3.8.13 ('base')",
   "language": "python",
   "name": "python3"
  },
  "language_info": {
   "codemirror_mode": {
    "name": "ipython",
    "version": 3
   },
   "file_extension": ".py",
   "mimetype": "text/x-python",
   "name": "python",
   "nbconvert_exporter": "python",
   "pygments_lexer": "ipython3",
   "version": "3.8.13"
  },
  "orig_nbformat": 4,
  "vscode": {
   "interpreter": {
    "hash": "40d3a090f54c6569ab1632332b64b2c03c39dcf918b08424e98f38b5ae0af88f"
   }
  }
 },
 "nbformat": 4,
 "nbformat_minor": 2
}

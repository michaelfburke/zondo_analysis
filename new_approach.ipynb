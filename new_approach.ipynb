{
 "cells": [
  {
   "cell_type": "code",
   "execution_count": 2,
   "metadata": {},
   "outputs": [
    {
     "name": "stderr",
     "output_type": "stream",
     "text": [
      "[nltk_data] Downloading package punkt to /Users/20790627/nltk_data...\n",
      "[nltk_data]   Package punkt is already up-to-date!\n",
      "[nltk_data] Downloading package stopwords to\n",
      "[nltk_data]     /Users/20790627/nltk_data...\n",
      "[nltk_data]   Package stopwords is already up-to-date!\n"
     ]
    }
   ],
   "source": [
    "import nltk\n",
    "import numpy\n",
    "import string\n",
    "import matplotlib.pyplot as plt\n",
    "from nltk.tokenize import word_tokenize\n",
    "nltk.download('punkt')\n",
    "import pandas as pd\n",
    "\n",
    "nltk.download('stopwords')\n",
    "from nltk.corpus import stopwords"
   ]
  },
  {
   "cell_type": "code",
   "execution_count": 3,
   "metadata": {},
   "outputs": [
    {
     "data": {
      "text/html": [
       "<div>\n",
       "<style scoped>\n",
       "    .dataframe tbody tr th:only-of-type {\n",
       "        vertical-align: middle;\n",
       "    }\n",
       "\n",
       "    .dataframe tbody tr th {\n",
       "        vertical-align: top;\n",
       "    }\n",
       "\n",
       "    .dataframe thead th {\n",
       "        text-align: right;\n",
       "    }\n",
       "</style>\n",
       "<table border=\"1\" class=\"dataframe\">\n",
       "  <thead>\n",
       "    <tr style=\"text-align: right;\">\n",
       "      <th></th>\n",
       "      <th>S.No.</th>\n",
       "      <th>Company Name</th>\n",
       "      <th>Ticker</th>\n",
       "      <th>Sector</th>\n",
       "    </tr>\n",
       "  </thead>\n",
       "  <tbody>\n",
       "    <tr>\n",
       "      <th>0</th>\n",
       "      <td>1</td>\n",
       "      <td>4Sight Holdings Limited</td>\n",
       "      <td>4SI</td>\n",
       "      <td>Financial Services</td>\n",
       "    </tr>\n",
       "    <tr>\n",
       "      <th>1</th>\n",
       "      <td>2</td>\n",
       "      <td>ABSA Bank Limited</td>\n",
       "      <td>ABSP</td>\n",
       "      <td>Banks</td>\n",
       "    </tr>\n",
       "    <tr>\n",
       "      <th>2</th>\n",
       "      <td>3</td>\n",
       "      <td>Barclays Africa Group Limited</td>\n",
       "      <td>ABG.ZA</td>\n",
       "      <td>Banks</td>\n",
       "    </tr>\n",
       "    <tr>\n",
       "      <th>3</th>\n",
       "      <td>4</td>\n",
       "      <td>Accelerate Property Fund Limited</td>\n",
       "      <td>APF</td>\n",
       "      <td>Real Estate Investment Trusts</td>\n",
       "    </tr>\n",
       "    <tr>\n",
       "      <th>4</th>\n",
       "      <td>5</td>\n",
       "      <td>Accentuate Limited</td>\n",
       "      <td>ACE</td>\n",
       "      <td>Chemicals</td>\n",
       "    </tr>\n",
       "  </tbody>\n",
       "</table>\n",
       "</div>"
      ],
      "text/plain": [
       "   S.No.                      Company Name  Ticker  \\\n",
       "0      1           4Sight Holdings Limited     4SI   \n",
       "1      2                 ABSA Bank Limited    ABSP   \n",
       "2      3     Barclays Africa Group Limited  ABG.ZA   \n",
       "3      4  Accelerate Property Fund Limited     APF   \n",
       "4      5                Accentuate Limited     ACE   \n",
       "\n",
       "                          Sector  \n",
       "0             Financial Services  \n",
       "1                          Banks  \n",
       "2                          Banks  \n",
       "3  Real Estate Investment Trusts  \n",
       "4                      Chemicals  "
      ]
     },
     "execution_count": 3,
     "metadata": {},
     "output_type": "execute_result"
    }
   ],
   "source": [
    "# these are the companies listed on the Johannesburg Stock Exchange\n",
    "listed_companies = pd.read_excel('Complete-List-of-Listed-Companies-on-South-Africa-Johannesburg-Stock-Exchange-Jan-2021.xlsx')\n",
    "listed_companies.head()"
   ]
  },
  {
   "cell_type": "code",
   "execution_count": 4,
   "metadata": {},
   "outputs": [],
   "source": [
    "companies = list(listed_companies['Company Name'].unique())"
   ]
  },
  {
   "cell_type": "code",
   "execution_count": 5,
   "metadata": {},
   "outputs": [
    {
     "data": {
      "text/html": [
       "<div>\n",
       "<style scoped>\n",
       "    .dataframe tbody tr th:only-of-type {\n",
       "        vertical-align: middle;\n",
       "    }\n",
       "\n",
       "    .dataframe tbody tr th {\n",
       "        vertical-align: top;\n",
       "    }\n",
       "\n",
       "    .dataframe thead th {\n",
       "        text-align: right;\n",
       "    }\n",
       "</style>\n",
       "<table border=\"1\" class=\"dataframe\">\n",
       "  <thead>\n",
       "    <tr style=\"text-align: right;\">\n",
       "      <th></th>\n",
       "      <th>report</th>\n",
       "      <th>text</th>\n",
       "    </tr>\n",
       "  </thead>\n",
       "  <tbody>\n",
       "    <tr>\n",
       "      <th>0</th>\n",
       "      <td>OCR version - State Capture Commission Report ...</td>\n",
       "      <td>dicial \\nn of Ir• \\nS a \\nI I eport: Part 1 \\n...</td>\n",
       "    </tr>\n",
       "    <tr>\n",
       "      <th>1</th>\n",
       "      <td>OCR version - State Capture Commission Report ...</td>\n",
       "      <td>Judicial Commission  \\nOf  \\n     Inquiry into...</td>\n",
       "    </tr>\n",
       "    <tr>\n",
       "      <th>2</th>\n",
       "      <td>OCR version - State Capture Commission Report ...</td>\n",
       "      <td>\\n \\nJudicial Commission  \\nof \\nInquiry into...</td>\n",
       "    </tr>\n",
       "    <tr>\n",
       "      <th>3</th>\n",
       "      <td>OCR version - State Capture Commission Report ...</td>\n",
       "      <td>Chairperson: Justice RtM Zondo \\nActing Chief ...</td>\n",
       "    </tr>\n",
       "    <tr>\n",
       "      <th>4</th>\n",
       "      <td>OCR version - State Capture Commission Report ...</td>\n",
       "      <td>\\n \\nJudicial Commission  \\nof \\nInquiry into...</td>\n",
       "    </tr>\n",
       "  </tbody>\n",
       "</table>\n",
       "</div>"
      ],
      "text/plain": [
       "                                              report  \\\n",
       "0  OCR version - State Capture Commission Report ...   \n",
       "1  OCR version - State Capture Commission Report ...   \n",
       "2  OCR version - State Capture Commission Report ...   \n",
       "3  OCR version - State Capture Commission Report ...   \n",
       "4  OCR version - State Capture Commission Report ...   \n",
       "\n",
       "                                                text  \n",
       "0  dicial \\nn of Ir• \\nS a \\nI I eport: Part 1 \\n...  \n",
       "1  Judicial Commission  \\nOf  \\n     Inquiry into...  \n",
       "2   \\n \\nJudicial Commission  \\nof \\nInquiry into...  \n",
       "3  Chairperson: Justice RtM Zondo \\nActing Chief ...  \n",
       "4   \\n \\nJudicial Commission  \\nof \\nInquiry into...  "
      ]
     },
     "execution_count": 5,
     "metadata": {},
     "output_type": "execute_result"
    }
   ],
   "source": [
    "# load the Zondo Comission Into State Capture reports\n",
    "zondo_reports = pd.read_csv('zondo_reports.csv')\n",
    "zondo_reports = zondo_reports.drop(columns=['Unnamed: 0'])\n",
    "zondo_reports.head()"
   ]
  },
  {
   "cell_type": "code",
   "execution_count": 6,
   "metadata": {},
   "outputs": [],
   "source": [
    "# amalgamate the content of all report volumes into a list\n",
    "content = zondo_reports['text'].to_list()"
   ]
  },
  {
   "cell_type": "code",
   "execution_count": 7,
   "metadata": {},
   "outputs": [
    {
     "data": {
      "text/plain": [
       "'dicial \\nn of Ir• \\nS a \\nI I eport: Part 1 \\n: South African Airways and its \\nAssociated Companies \\n\\\\ \\\\ \\nChairperson: Justice RMM Zondo \\nActing Chief Justice of the Republic of South Africa e report of the Judicial Commission of Inquiry into allegations of \\nure, Corruption and Fraud in the Public Sector including organs of \\nlso known to the public and the media as the Zondo Commission JudicialJudicial\\nCommission of Commission of Inquiry into Inquiry into \\nState Capture State Capture \\nReport: Part 1Report: Part 1\\nVol. 1:  South African Airways and its Vol. 1:  South African Airways and its \\nAssociated CompaniesAssociated Companies\\nChairperson: Justice RMM ZondoActing Chief Justice of the Republic of South Africa\\nReport of the Judicial Commission of Report of the Judicial Commission of Inquiry into State Capture: Part 1:  Vol.  1 Inquiry into State Capture: Part 1:  Vol.  1 \\nThis is the report of the Judicial Commission of Inquiry into allegations of State Capture, Corruption and Fraud in t'"
      ]
     },
     "execution_count": 7,
     "metadata": {},
     "output_type": "execute_result"
    }
   ],
   "source": [
    "content[0][0:1000]"
   ]
  },
  {
   "cell_type": "code",
   "execution_count": 8,
   "metadata": {},
   "outputs": [],
   "source": [
    "# join items in content list as a literal string, then tokenize\n",
    "all_content = \" \".join(content[:])\n",
    "all_content_tokens = word_tokenize(all_content) "
   ]
  },
  {
   "cell_type": "code",
   "execution_count": 59,
   "metadata": {},
   "outputs": [],
   "source": [
    "# and filter out the stops\n",
    "just_tokens = ['mr','ms','dr','p','``', '\\'s','’','’’','\\'\\'','“','”','................................','l']\n",
    "\n",
    "removables = set(stopwords.words('English') + list(string.punctuation) + list(string.digits) + just_tokens)\n",
    "\n",
    "filtered_tokens = [token for token in all_content_tokens if token not in removables]"
   ]
  },
  {
   "cell_type": "code",
   "execution_count": 62,
   "metadata": {},
   "outputs": [
    {
     "name": "stdout",
     "output_type": "stream",
     "text": [
      "1 word company appeared in text: Bid\n",
      "1 word company appeared in text: Command\n",
      "1 word company appeared in text: Efficient\n",
      "1 word company appeared in text: EOH\n",
      "1 word company appeared in text: Firstrand\n",
      "1 word company appeared in text: Glencore\n",
      "1 word company appeared in text: Five\n",
      "1 word company appeared in text: Imperial\n",
      "1 word company appeared in text: Hotel\n",
      "1 word company appeared in text: Investec\n",
      "1 word company appeared in text: Investec\n",
      "1 word company appeared in text: ISA\n",
      "1 word company appeared in text: JSE\n",
      "1 word company appeared in text: Lewis\n",
      "1 word company appeared in text: Liberty\n",
      "1 word company appeared in text: Moneyweb\n",
      "1 word company appeared in text: Mpact\n",
      "1 word company appeared in text: MultiChoice\n",
      "1 word company appeared in text: Naspers\n",
      "1 word company appeared in text: Nedbank\n",
      "1 word company appeared in text: PPC\n",
      "1 word company appeared in text: PSV\n",
      "1 word company appeared in text: RMB\n",
      "1 word company appeared in text: Sasfin\n",
      "1 word company appeared in text: Sasol\n",
      "1 word company appeared in text: South32\n",
      "1 word company appeared in text: Sun\n",
      "1 word company appeared in text: Value\n",
      "1 word company appeared in text: Vodacom\n",
      "2 word company appeared in text: ('ABSA', 'Bank')\n",
      "2 word company appeared in text: ('Barclays', 'Africa')\n",
      "2 word company appeared in text: ('African', 'Bank')\n",
      "2 word company appeared in text: ('Anglo', 'American')\n",
      "2 word company appeared in text: ('Impala', 'Platinum')\n",
      "2 word company appeared in text: ('Standard', 'Bank')\n",
      "2 word company appeared in text: ('Trans', 'Hex')\n",
      "3 word company appeared in text: ('Blue', 'Label', 'Telecoms')\n",
      "3 word company appeared in text: ('Caxton', 'CTP', 'Publishers')\n",
      "Final list of companies to reconsider: ['Bid', 'Command', 'Efficient', 'EOH', 'Firstrand', 'Glencore', 'Five', 'Imperial', 'Hotel', 'Investec', 'Investec', 'ISA', 'JSE', 'Lewis', 'Liberty', 'Moneyweb', 'Mpact', 'MultiChoice', 'Naspers', 'Nedbank', 'PPC', 'PSV', 'RMB', 'Sasfin', 'Sasol', 'South32', 'Sun', 'Value', 'Vodacom', ('ABSA', 'Bank'), ('Barclays', 'Africa'), ('African', 'Bank'), ('Anglo', 'American'), ('Impala', 'Platinum'), ('Standard', 'Bank'), ('Trans', 'Hex'), ('Blue', 'Label', 'Telecoms'), ('Caxton', 'CTP', 'Publishers')]\n"
     ]
    }
   ],
   "source": [
    "# create list of company names\n",
    "# remove stop words from company names\n",
    "# split into single word, double word, triple words\n",
    "stops = ['Holdings', 'Limited', 'Ltd', 'Plc', 'plc', 'Group', 'Company', 'Fund', 'Corporation', 'Corp', 'Investments', 'Compagnie Financiere', 'Ld', 'International', 'NV']\n",
    "one_word_comps = []\n",
    "two_word_comps = []\n",
    "three_word_comps = []\n",
    "four_word_comps = []\n",
    "for name in listed_companies['Company Name']:\n",
    "    for stop in stops:\n",
    "        name = name.replace(stop, '')\n",
    "        name = name.strip()\n",
    "    if len(name.split()) == 1:\n",
    "        one_word_comps.append(name)\n",
    "    elif len(name.split()) == 2:\n",
    "        name = tuple(name.split(' '))\n",
    "        two_word_comps.append(name)\n",
    "    elif len(name.split()) == 3:\n",
    "        name = tuple(name.split(' '))\n",
    "        three_word_comps.append(name)\n",
    "    else:\n",
    "        first_three_words = ' '.join(name.split()[:3])\n",
    "        first_three_words = tuple(first_three_words.split(' '))\n",
    "        three_word_comps.append(first_three_words)\n",
    "\n",
    "\n",
    "# create bigrams and trigrams\n",
    "# search for words in their relevant set\n",
    "# add found companies to final list\n",
    "\n",
    "bigrams = list(nltk.bigrams(filtered_tokens)) \n",
    "trigrams = list(nltk.trigrams(filtered_tokens)) \n",
    "final_list = []\n",
    "\n",
    "for comp in one_word_comps:\n",
    "    if comp in filtered_tokens:\n",
    "        print('1 word company appeared in text:', comp)\n",
    "        final_list.append(comp)\n",
    "\n",
    "for comp in two_word_comps:\n",
    "    if comp in bigrams:\n",
    "        print('2 word company appeared in text:', comp)\n",
    "        final_list.append(comp)\n",
    "\n",
    "for comp in three_word_comps:\n",
    "    if comp in trigrams:\n",
    "        print('3 word company appeared in text:', comp)\n",
    "        final_list.append(comp)\n",
    "\n",
    "print('Final list of companies to reconsider:', final_list)\n"
   ]
  },
  {
   "cell_type": "code",
   "execution_count": null,
   "metadata": {},
   "outputs": [],
   "source": [
    "# other things to add: \n",
    "# maybe manually move Efficient Group and Five Group to the two_name_comps \n",
    "# create a final dataframe with the full company names\n",
    "# if this isn't enough we can add frequencies"
   ]
  }
 ],
 "metadata": {
  "kernelspec": {
   "display_name": "Python 3.8.13 ('base')",
   "language": "python",
   "name": "python3"
  },
  "language_info": {
   "codemirror_mode": {
    "name": "ipython",
    "version": 3
   },
   "file_extension": ".py",
   "mimetype": "text/x-python",
   "name": "python",
   "nbconvert_exporter": "python",
   "pygments_lexer": "ipython3",
   "version": "3.8.13"
  },
  "orig_nbformat": 4,
  "vscode": {
   "interpreter": {
    "hash": "40d3a090f54c6569ab1632332b64b2c03c39dcf918b08424e98f38b5ae0af88f"
   }
  }
 },
 "nbformat": 4,
 "nbformat_minor": 2
}
